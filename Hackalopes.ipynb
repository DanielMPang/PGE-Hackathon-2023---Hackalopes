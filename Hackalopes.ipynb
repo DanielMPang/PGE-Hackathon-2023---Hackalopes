{
 "cells": [
  {
   "attachments": {},
   "cell_type": "markdown",
   "metadata": {},
   "source": [
    "___\n",
    "\n",
    "# Energy A.I. Hackathon 2023 Workflow - Hackalopes \n",
    "\n",
    "#### Authors:   \n",
    "<h4>  \n",
    "\n",
    "**Richard Larson** - Energy and Earth Resources - *Jackson*  \n",
    "**Karthik Menon** - Energy and Earth Resources - *Jackson*   \n",
    "**Daniel Pang** - Petroleum and Geosystems Engineering - *Cockrell*    \n",
    "**Benjamin Stormer** - Walker Department of Mechanical Engineering - *Cockrell* \n",
    "\n",
    "</h4> \n",
    "\n",
    "#### The University of Texas at Austin, Austin, Texas USA \n",
    "___\n",
    "\n",
    "### Executive Summary \n",
    "\n",
    "We needed to predict whether 40 Electronic Submersible Pumps (ESP) will fail or not within 30 days. To create our predictions, we developed a data analytics and machine learning workflow in Python. We found that the GOR, ESP vibration data, and other factors related to fluid flow through the pump are most critical in assessing the status of an ESP. We recommend that feature engineering of these factors be used as a measure to evaluate the lifespan of ESPs in the future.\n",
    "\n",
    "___\n",
    "\n",
    "### Workflow Goal\n",
    "\n",
    "Our workflow should clearly provide the steps to select the optimal features for evaluating ESP lifespan, impute or remove any appropriate data, and develop a predictive learning model to categorize ESPs as expected to fail or not to fail in a period of 30 days.\n",
    "___\n",
    "\n",
    "### Workflow Steps \n",
    "\n",
    "Enumerated steps, very short and concise overview of your methods and workflow\n",
    "\n",
    "1. **Data Analysis** - Separate data in failing pumps from operational pumps and understand feature completeness and correlation\n",
    "2. **Feature Selection** - Leverage physical knowledge and domain expertise to determine most influential features, while imputing any data when possible, and removing any redundancies when necessary.\n",
    "3. **Machine Learning Model \\#1** - Create a minimum viable prototype using simple machine learning methods\n",
    "4. **Machine Learning Model \\#2** - Improve the minimum viable prototype by increasing complexity and changing feature selections\n"
   ]
  },
  {
   "cell_type": "markdown",
   "metadata": {},
   "source": [
    "### Import Packages"
   ]
  },
  {
   "cell_type": "code",
   "execution_count": 15,
   "metadata": {},
   "outputs": [
    {
     "ename": "ModuleNotFoundError",
     "evalue": "No module named 'tpot'",
     "output_type": "error",
     "traceback": [
      "\u001b[1;31m---------------------------------------------------------------------------\u001b[0m",
      "\u001b[1;31mModuleNotFoundError\u001b[0m                       Traceback (most recent call last)",
      "\u001b[1;32mc:\\Users\\benja\\Documents\\2023 PGE Hackathon\\Hackalopes\\Hackalopes.ipynb Cell 3\u001b[0m in \u001b[0;36m<cell line: 13>\u001b[1;34m()\u001b[0m\n\u001b[0;32m     <a href='vscode-notebook-cell:/c%3A/Users/benja/Documents/2023%20PGE%20Hackathon/Hackalopes/Hackalopes.ipynb#W2sZmlsZQ%3D%3D?line=10'>11</a>\u001b[0m \u001b[39mfrom\u001b[39;00m \u001b[39msklearn\u001b[39;00m \u001b[39mimport\u001b[39;00m svm\n\u001b[0;32m     <a href='vscode-notebook-cell:/c%3A/Users/benja/Documents/2023%20PGE%20Hackathon/Hackalopes/Hackalopes.ipynb#W2sZmlsZQ%3D%3D?line=11'>12</a>\u001b[0m \u001b[39mfrom\u001b[39;00m \u001b[39msklearn\u001b[39;00m \u001b[39mimport\u001b[39;00m metrics\n\u001b[1;32m---> <a href='vscode-notebook-cell:/c%3A/Users/benja/Documents/2023%20PGE%20Hackathon/Hackalopes/Hackalopes.ipynb#W2sZmlsZQ%3D%3D?line=12'>13</a>\u001b[0m \u001b[39mfrom\u001b[39;00m \u001b[39mtpot\u001b[39;00m \u001b[39mimport\u001b[39;00m TPOTClassifier\n\u001b[0;32m     <a href='vscode-notebook-cell:/c%3A/Users/benja/Documents/2023%20PGE%20Hackathon/Hackalopes/Hackalopes.ipynb#W2sZmlsZQ%3D%3D?line=13'>14</a>\u001b[0m \u001b[39mfrom\u001b[39;00m \u001b[39msklearn\u001b[39;00m\u001b[39m.\u001b[39;00m\u001b[39mensemble\u001b[39;00m \u001b[39mimport\u001b[39;00m RandomForestClassifier\n",
      "\u001b[1;31mModuleNotFoundError\u001b[0m: No module named 'tpot'"
     ]
    }
   ],
   "source": [
    "import numpy as np                    # model arrays\n",
    "import pandas as pd                   # DataFrames\n",
    "import matplotlib.pyplot as plt       # building plots\n",
    "import seaborn as sns                 # Plotting help\n",
    "import os                             # accessing the operating system\n",
    "from pathlib import Path              # Write files out\n",
    "from sklearn.impute import KNNImputer # k-nearest imputing\n",
    "from sklearn.experimental import enable_iterative_imputer # required for MICE imputation\n",
    "from sklearn.impute import IterativeImputer # MICE imputation\n",
    "# Machine learning libraries\n",
    "from sklearn.model_selection import train_test_split\n",
    "from sklearn import svm\n",
    "from sklearn import metrics\n",
    "from tpot import TPOTClassifier\n",
    "from sklearn.ensemble import RandomForestClassifier\n",
    "from sklearn.preprocessing import StandardScaler\n"
   ]
  },
  {
   "attachments": {},
   "cell_type": "markdown",
   "metadata": {},
   "source": [
    "### Load Data\n",
    "\n",
    "The following workflow applies the .csv files 'wellData.csv' and 'dailyData.csv'. 'wellData.csv' is a collection of static features related to a specific well. 'dailyData.csv' is a collection of time-series data particular to the operation of each pump. The datasets were made available to competitors as part of the UT Austin 2023 PGE Hackathon.\n",
    "\n",
    "We will work with the following features:\n",
    "* **DLS_Critical** - ...\n",
    "* **GOR** - ...\n",
    "* **ESP Data - Vibration X** - ...\n",
    "* **Pump_Power** - ..."
   ]
  },
  {
   "cell_type": "code",
   "execution_count": 2,
   "metadata": {},
   "outputs": [],
   "source": [
    "# Relative paths used since assumption is that user is in root directory of forked Git repo.\n",
    "well_data = pd.read_csv(\"../Hackalopes/wellData.csv\")      # load the well data in\n",
    "daily_data = pd.read_csv(\"../Hackalopes/dailyData.csv\")    # load the daily data in\n",
    "solution_data = pd.read_csv(\"../Hackalopes/solution.csv\")  # load the solution data in"
   ]
  },
  {
   "cell_type": "markdown",
   "metadata": {},
   "source": [
    "### Functions\n",
    "\n",
    "The following functions will be used in the workflow."
   ]
  },
  {
   "cell_type": "code",
   "execution_count": 3,
   "metadata": {},
   "outputs": [],
   "source": [
    "# Plots a correlation matrix as a heat map\n",
    "def plot_corr(dataframe,size=10):                        \n",
    "    corr = dataframe.corr()\n",
    "    fig, ax = plt.subplots(figsize=(size, size))\n",
    "    im = ax.matshow(corr,vmin = -1.0, vmax = 1.0)\n",
    "    plt.xticks(range(len(corr.columns)), corr.columns);\n",
    "    plt.yticks(range(len(corr.columns)), corr.columns);\n",
    "    plt.colorbar(im, orientation = 'vertical')\n",
    "    plt.title('Correlation Matrix')\n",
    "\n",
    "\n",
    "# Replaces the NaN values in a dataset\n",
    "def count_and_replace_nan(dataset, feature, replacement_value):\n",
    "    num_nan = sum(dataset[feature].isna())\n",
    "    print(f\"Number of NaN values in {feature} is {num_nan} out of {len(dataset)} values\")\n",
    "    if replacement_value == \"bf\":\n",
    "        new = dataset[feature].fillna(method=\"bfill\", inplace=True)\n",
    "        print(f\"NaN values have been replaced by back-filling\")\n",
    "    elif replacement_value == \"ff\":\n",
    "        dataset[feature].fillna(method=\"ffill\", inplace=True)\n",
    "        print(f\"NaN values have been replaced by forward-filling\")\n",
    "    else:\n",
    "        dataset[feature].fillna(replacement_value, inplace=True)\n",
    "        print(f\"NaN values have been replaced with {replacement_value}\")\n",
    "    return dataset\n",
    "\n",
    "\n",
    "# Compute the completeness metrics for a given dataset\n",
    "def completeness(df, cutoff=0.75):\n",
    "    df_temp = df.copy(deep=True)\n",
    "    df_bool = df_temp.isnull()\n",
    "    features = list(df_bool.columns)\n",
    "    percent_missing = []\n",
    "    past_cutoff = []\n",
    "    for feature in features:\n",
    "        num_missing = df_bool[feature].sum()\n",
    "        proportion_missing = df_bool[feature].sum() / len(df_bool)\n",
    "        percent_missing.append(proportion_missing)\n",
    "        if proportion_missing >= cutoff:\n",
    "            past_cutoff.append(feature)\n",
    "    print(f'{past_cutoff} were missing at least {cutoff*100}% of their data')\n",
    "\n",
    "\n",
    "# Calculate the (spearman) correlation between all features in a dataframe.\n",
    "def correlation(df, cutoff=0.75):\n",
    "    corr = df.corr(method='spearman')\n",
    "    correlated = []\n",
    "    inversely_correlated = []\n",
    "    for feature in corr:\n",
    "        for feature2 in corr:\n",
    "            correlation = corr[feature][feature2]\n",
    "            if str(feature) == str(feature2):\n",
    "                pass\n",
    "            elif correlation >= cutoff:\n",
    "                correlated.append((feature, feature2))\n",
    "            elif correlation <= -cutoff:\n",
    "                inversely_correlated.append((feature, feature2))\n",
    "    # print(f'Items listed here: {correlated} are correlated by a coefficient of at least {cutoff}')\n",
    "    # print('-----------------------------------------------------------------------------------------------------------------------------------------------------------------------------')\n",
    "    # print(f'Items listed here: {inversely_correlated} are inversely correlated by a coefficient of at greatest -{cutoff}')"
   ]
  },
  {
   "attachments": {},
   "cell_type": "markdown",
   "metadata": {},
   "source": [
    "### Aggregate and Separate Data Appropriately\n",
    "\n",
    "The following steps combine the input csv files into DataFrames that are more useful to manage"
   ]
  },
  {
   "cell_type": "code",
   "execution_count": 4,
   "metadata": {},
   "outputs": [],
   "source": [
    "# Mark data we will be predicting with a 0 and failed pumps with a 1\n",
    "solution_data = solution_data.rename(columns={\"Fail in 30 days\": \"Failed\"}) \n",
    "solution_data[\"Failed\"] = 0 # Initialize solutions with 0"
   ]
  },
  {
   "cell_type": "code",
   "execution_count": 5,
   "metadata": {},
   "outputs": [],
   "source": [
    "# Combine all data into one dataframe\n",
    "combined_data = pd.merge(pd.merge(well_data, daily_data, on=[\"Well_ID\", \"AL_Key\"], how=\"left\"), \n",
    "                         solution_data, on=[\"Well_ID\", \"AL_Key\"], how=\"left\")\n",
    "combined_data[\"Failed\"] = combined_data[\"Failed\"].replace(np.nan, 1)\n",
    "combined_data = combined_data.drop(columns=[\"Unnamed: 0\"])"
   ]
  },
  {
   "cell_type": "code",
   "execution_count": 6,
   "metadata": {},
   "outputs": [],
   "source": [
    "# Backfill NaN values in OIL, GAS, and Water columns\n",
    "combined_data[\"OIL\"].fillna(method=\"bfill\", inplace=True)\n",
    "combined_data[\"GAS\"].fillna(method=\"bfill\", inplace=True)\n",
    "combined_data[\"WATER\"].fillna(method=\"bfill\", inplace=True)"
   ]
  },
  {
   "cell_type": "code",
   "execution_count": 7,
   "metadata": {},
   "outputs": [],
   "source": [
    "# Insert new ratios and features in dataframe\n",
    "combined_data.insert(15, \"GOR\", combined_data[\"GAS\"] / combined_data[\"OIL\"])\n",
    "combined_data.insert(16, \"GOF\", combined_data[\"GAS\"] / (combined_data[\"OIL\"] + combined_data[\"WATER\"]))\n",
    "combined_data.insert(17, \"GOR_Slope\", combined_data[\"GOR\"].diff())"
   ]
  },
  {
   "cell_type": "code",
   "execution_count": 8,
   "metadata": {},
   "outputs": [],
   "source": [
    "# Create a dataframe for both the pumps still operational and the pumps that have failed\n",
    "solution_data = combined_data[combined_data[\"Failed\"] == 0] # Still operational\n",
    "failed_data = combined_data[combined_data[\"Failed\"] == 1] # Failed"
   ]
  },
  {
   "attachments": {},
   "cell_type": "markdown",
   "metadata": {},
   "source": [
    "### Basic Data Checking and Visualization"
   ]
  },
  {
   "cell_type": "code",
   "execution_count": 9,
   "metadata": {},
   "outputs": [],
   "source": [
    "correlation(combined_data) # Compute the correlation statistics for the combined dataframe"
   ]
  },
  {
   "cell_type": "code",
   "execution_count": 10,
   "metadata": {},
   "outputs": [
    {
     "name": "stdout",
     "output_type": "stream",
     "text": [
      "['ESP_Motor_Frequency_Rating'] were missing at least 75.0% of their data\n"
     ]
    }
   ],
   "source": [
    "completeness(solution_data) # Compute the data completeness statistics for the operational pumps"
   ]
  },
  {
   "attachments": {},
   "cell_type": "markdown",
   "metadata": {},
   "source": [
    "### Minimum Viable Prototype"
   ]
  },
  {
   "cell_type": "code",
   "execution_count": 11,
   "metadata": {},
   "outputs": [],
   "source": [
    "# Remove inessential data for a preliminary prototype. Essential data \n",
    "# determined from physical knowldege from domain experts and \n",
    "# correlation/completeness studies.\n",
    "min_viable = combined_data.drop(columns=['Artificial_Lift_Type',\n",
    "       'AL_Bottom_Depth', 'ESP_Pump_Stages',\n",
    "       'ESP_Motor_Frequency_Rating', 'ESP_Motor_Current_Rating',\n",
    "       'ESP_Motor_Voltage_Rating', 'ESP_Motor_Power_Rating',\n",
    "       'DLS_at_Set_Depth', 'OIL', 'GAS', 'WATER', 'ARTIFICIAL_LIFT',\n",
    "       'DOWN_TIME_HOURS', 'ESP Data - Drive Current',\n",
    "       'ESP Data - Drive Voltage', 'ESP Data - Intake Pressure',\n",
    "       'ESP Data - Motor Temperature Shutdown Setpoint',\n",
    "       'ESP Data - Motor Winding Temperature', 'ESP Data - Output Frequency',\n",
    "       'Startup_Count', 'Oil_Intake', 'Water_Intake',\n",
    "       'Gas_Intake', 'Liquid_Intake', 'Gas_Saturation_at_Intake',\n",
    "       'Gas_Separator_Efficiency', 'Gas_through_Annulus_Intake',\n",
    "       'Gas_through_ESP_Intake', 'Gas_through_Annulus', 'Gas_through_ESP',\n",
    "       'Pb_ESP', 'Discharge_Pressure', 'ESP_Fluid',\n",
    "       'Gas_Saturation_at_Discharge', 'Pump_Delta_Pressure',\n",
    "       'Pump_Average_Pressure', 'Gas_Saturation_in_Pump',\n",
    "       'Drive_Power', 'Power_Ratio', 'Power_Difference', 'ESP_Temperature',\n",
    "       'Lower_Limit', 'Failed'])"
   ]
  },
  {
   "attachments": {},
   "cell_type": "markdown",
   "metadata": {},
   "source": [
    "### Improved Model\n",
    "Two methods of imputation are used and tested separately"
   ]
  },
  {
   "cell_type": "code",
   "execution_count": 12,
   "metadata": {},
   "outputs": [],
   "source": [
    "# Remove inessential data for an improved prototype. This is slightly less\n",
    "# strict in removing features then the minimum viable prototype\n",
    "improved = combined_data.drop(columns=['Artificial_Lift_Type',\n",
    "       'AL_Bottom_Depth', 'ESP_Pump_Stages',\n",
    "       'ESP_Motor_Frequency_Rating', 'ESP_Motor_Current_Rating',\n",
    "       'ESP_Motor_Voltage_Rating', 'ESP_Motor_Power_Rating',\n",
    "       'DLS_at_Set_Depth', 'GAS', 'WATER', 'ARTIFICIAL_LIFT',\n",
    "       'DOWN_TIME_HOURS', 'ESP Data - Drive Current',\n",
    "       'ESP Data - Drive Voltage', 'ESP Data - Intake Pressure',\n",
    "       'ESP Data - Motor Temperature Shutdown Setpoint',\n",
    "       'ESP Data - Motor Winding Temperature', 'ESP Data - Output Frequency',\n",
    "       'Startup_Count', 'Oil_Intake', 'Water_Intake',\n",
    "       'Gas_Intake', 'Liquid_Intake', 'Gas_Saturation_at_Intake',\n",
    "       'Gas_Separator_Efficiency', 'Gas_through_Annulus_Intake',\n",
    "       'Gas_through_ESP_Intake', 'Gas_through_Annulus', 'Gas_through_ESP',\n",
    "       'Discharge_Pressure', 'ESP_Fluid',\n",
    "       'Gas_Saturation_at_Discharge', 'Pump_Delta_Pressure',\n",
    "       'Pump_Average_Pressure', 'Gas_Saturation_in_Pump',\n",
    "       'Drive_Power', 'Power_Difference', 'ESP_Temperature',\n",
    "       'Lower_Limit', 'Failed'])"
   ]
  },
  {
   "cell_type": "code",
   "execution_count": 13,
   "metadata": {},
   "outputs": [],
   "source": [
    "# Code modified from https://github.com/GeostatsGuy/PythonNumericalDemos/blob/master/SubsurfaceDataAnalytics_Feature_Imputation.ipynb\n",
    "# Authored by Dr. Michael Pyrcz\n",
    "\n",
    "# Impute the data using k-nearest neighbors\n",
    "df_knn = improved.copy(deep=True) # make a deep copy of the DataFrame\n",
    "df_knn.drop(columns=[\"Well_ID\", \"AL_Key\"], inplace=True)\n",
    "df_knn.replace([np.inf, -np.inf], np.nan, inplace=True) # Replace infinite values\n",
    "knn_imputer = KNNImputer(n_neighbors=2, weights=\"uniform\")\n",
    "df_knn.iloc[:,:] = knn_imputer.fit_transform(df_knn)"
   ]
  },
  {
   "cell_type": "code",
   "execution_count": 14,
   "metadata": {},
   "outputs": [],
   "source": [
    "# Code modified from https://github.com/GeostatsGuy/PythonNumericalDemos/blob/master/SubsurfaceDataAnalytics_Feature_Imputation.ipynb\n",
    "# Authored by Dr. Michael Pyrcz\n",
    "\n",
    "# Impute the data using chained equations\n",
    "df_mice = improved.copy(deep=True)  # make a deep copy of the DataFrame\n",
    "df_mice.drop(columns=[\"Well_ID\", \"AL_Key\"], inplace=True)\n",
    "df_mice.replace([np.inf, -np.inf], np.nan, inplace=True) # Replace infinite values\n",
    "mice_imputer = IterativeImputer()\n",
    "df_mice.iloc[:,:] = mice_imputer.fit_transform(df_mice)"
   ]
  },
  {
   "attachments": {},
   "cell_type": "markdown",
   "metadata": {},
   "source": [
    "### Machine Learning Workflow\n",
    "In practice, this method was applied first to the minimum viable prototype, and then the improved data set. Additionally, with more time we would have liked to put some of the functionality in functions to reduce lots of redundant code, but failed to do that given the time constraints."
   ]
  },
  {
   "cell_type": "code",
   "execution_count": null,
   "metadata": {},
   "outputs": [],
   "source": [
    "combined_data.head()\n",
    "combined_data[\"ESP Data - Vibration X\"] = df_mice[\"ESP Data - Vibration X\"]"
   ]
  },
  {
   "cell_type": "code",
   "execution_count": null,
   "metadata": {},
   "outputs": [],
   "source": [
    "grouped_data=combined_data.groupby([\"Well_ID\",\"AL_Key\"])\n",
    "array_life=np.array(grouped_data.size())\n",
    "solution_data = pd.read_csv(\"solution.csv\") # Changed here\n",
    "mega_matrix=np.array(grouped_data)\n",
    "test_array=np.array(solution_data)\n",
    "list_sort=[]\n",
    "list_fail=[]\n",
    "for i in range (0,len(mega_matrix)):\n",
    "    flag=0\n",
    "    for k in range(0,len(test_array)):        \n",
    "        if mega_matrix[i][0][0] == test_array[k][0] and mega_matrix[i][0][1] == test_array[k][1]:\n",
    "            list_sort.append(i)\n",
    "            flag=1            \n",
    "    if flag==0:\n",
    "        list_fail.append(i)\n",
    "mega_s=mega_matrix[list_sort]\n",
    "mega_s_life=array_life[list_sort]\n",
    "\n",
    "    \n",
    "mega_f=mega_matrix[list_fail]\n",
    "mega_f_life=array_life[list_fail]\n",
    "\n",
    "\n",
    "old_folks=[]\n",
    "\n",
    "for i in range (len(mega_f)):\n",
    "    overall_time=mega_f_life[i]\n",
    "    senior=overall_time-int((overall_time*0.1).round(0))\n",
    "    alpha=mega_f[i][1][senior:overall_time][\"OIL\"].diff().mean()\n",
    "    old_folks.append(alpha)\n",
    "\n",
    "army=[]\n",
    "for i in range (len(mega_f)):\n",
    "    overall_time=mega_f_life[i]\n",
    "    start=overall_time-int((overall_time*0.3).round(0))\n",
    "    end=overall_time-int((overall_time*0.2).round(0))\n",
    "    soldier=mega_f[i][1][start:end][\"OIL\"].diff().mean()\n",
    "    army.append(soldier)"
   ]
  },
  {
   "cell_type": "code",
   "execution_count": null,
   "metadata": {},
   "outputs": [],
   "source": [
    "# Oil production Standard deviation.\n",
    "old_folks=[]\n",
    "\n",
    "for i in range (len(mega_f)):\n",
    "    overall_time=mega_f_life[i]\n",
    "    senior=overall_time-int((overall_time*0.1).round(0))\n",
    "    alpha=mega_f[i][1][senior:overall_time][\"OIL\"].std()\n",
    "    old_folks.append(alpha)\n",
    "\n",
    "army=[]\n",
    "\n",
    "for i in range (len(mega_f)):\n",
    "    overall_time=mega_f_life[i]\n",
    "    start=overall_time-int((overall_time*0.3).round(0))\n",
    "    end=overall_time-int((overall_time*0.2).round(0))\n",
    "    soldier=mega_f[i][1][start:end][\"OIL\"].std()\n",
    "    army.append(soldier)\n",
    "\n",
    "\n",
    "# Adding values to a dataframe. First (0-army) Second(1-old).\n",
    "\n",
    "army_arr = (np.array(army))\n",
    "old_folks_arr = (np.array(old_folks))\n",
    "main_arr = np.hstack((army_arr,old_folks_arr))\n",
    "\n",
    "zero = np.zeros(shape = (len(mega_f),1))\n",
    "ones = np.ones(shape = (len(mega_f),1))\n",
    "\n",
    "y = np.vstack((zero,ones))\n",
    "\n",
    "data_df = pd.DataFrame(np.array(main_arr),columns = [\"Oil Production\"])    \n",
    "data_df[\"Target\"] = y \n",
    "    \n",
    "data_df"
   ]
  },
  {
   "cell_type": "code",
   "execution_count": null,
   "metadata": {},
   "outputs": [],
   "source": [
    "# Gas/oil ratio     \n",
    "old_folks=[]\n",
    "\n",
    "for i in range (len(mega_f)):\n",
    "    overall_time=mega_f_life[i]\n",
    "    senior=overall_time-int((overall_time*0.1).round(0))\n",
    "    alpha=mega_f[i][1][senior:overall_time][\"GAS/OIL\"].diff().mean()\n",
    "    old_folks.append(alpha)\n",
    "\n",
    "army=[]\n",
    "\n",
    "for i in range (len(mega_f)):\n",
    "    overall_time=mega_f_life[i]\n",
    "    start=overall_time-int((overall_time*0.3).round(0))\n",
    "    end=overall_time-int((overall_time*0.2).round(0))\n",
    "    soldier=mega_f[i][1][start:end][\"GAS/OIL\"].diff().mean()\n",
    "    army.append(soldier)\n",
    "        \n",
    "army_arr = (np.array(army))\n",
    "old_folks_arr = (np.array(old_folks))\n",
    "main_arr = np.hstack((army_arr,old_folks_arr))\n",
    "\n",
    "zero = np.zeros(shape = (len(mega_f),1))\n",
    "ones = np.ones(shape = (len(mega_f),1))\n",
    "\n",
    "y = np.vstack((zero,ones))\n",
    "\n",
    "data_df[\"GAS/OIL\"] = np.array(main_arr)\n",
    "\n",
    "    \n",
    "data_df"
   ]
  },
  {
   "cell_type": "code",
   "execution_count": null,
   "metadata": {},
   "outputs": [],
   "source": [
    "# Standard Deviation of Gas/Oil    \n",
    "old_folks=[]\n",
    "\n",
    "for i in range (len(mega_f)):\n",
    "    overall_time=mega_f_life[i]\n",
    "    senior=overall_time-int((overall_time*0.1).round(0))\n",
    "    alpha=mega_f[i][1][senior:overall_time][\"GAS/OIL\"].std()\n",
    "    old_folks.append(alpha)\n",
    "\n",
    "army=[]\n",
    "for i in range (len(mega_f)):\n",
    "    overall_time=mega_f_life[i]\n",
    "    start=overall_time-int((overall_time*0.3).round(0))\n",
    "    end=overall_time-int((overall_time*0.2).round(0))\n",
    "    soldier=mega_f[i][1][start:end][\"GAS/OIL\"].std()\n",
    "    army.append(soldier)\n",
    "        \n",
    "army_arr = (np.array(army))\n",
    "old_folks_arr = (np.array(old_folks))\n",
    "main_arr = np.hstack((army_arr,old_folks_arr))\n",
    "\n",
    "zero = np.zeros(shape = (len(mega_f),1))\n",
    "ones = np.ones(shape = (len(mega_f),1))\n",
    "\n",
    "y = np.vstack((zero,ones))\n",
    "\n",
    "data_df[\"GAS/OIL(std)\"] = np.array(main_arr)\n",
    "\n",
    "    \n",
    "data_df"
   ]
  },
  {
   "cell_type": "code",
   "execution_count": null,
   "metadata": {},
   "outputs": [],
   "source": [
    "# Gas/fluid slope.    \n",
    "old_folks=[]\n",
    "\n",
    "for i in range (len(mega_f)):\n",
    "    overall_time=mega_f_life[i]\n",
    "    senior=overall_time-int((overall_time*0.1).round(0))\n",
    "    alpha=mega_f[i][1][senior:overall_time][\"GAS/FLUID\"].diff().mean()\n",
    "    old_folks.append(alpha)\n",
    "\n",
    "army=[]\n",
    "for i in range (len(mega_f)):\n",
    "    overall_time=mega_f_life[i]\n",
    "    start=overall_time-int((overall_time*0.3).round(0))\n",
    "    end=overall_time-int((overall_time*0.2).round(0))\n",
    "    soldier=mega_f[i][1][start:end][\"GAS/FLUID\"].diff().mean()\n",
    "    army.append(soldier)\n",
    "    \n",
    "army_arr = (np.array(army))\n",
    "old_folks_arr = (np.array(old_folks))\n",
    "main_arr = np.hstack((army_arr,old_folks_arr))\n",
    "\n",
    "zero = np.zeros(shape = (len(mega_f),1))\n",
    "ones = np.ones(shape = (len(mega_f),1))\n",
    "\n",
    "y = np.vstack((zero,ones))\n",
    "\n",
    "data_df[\"GAS/FLUID\"] = np.array(main_arr)\n",
    "\n",
    "    \n",
    "data_df"
   ]
  },
  {
   "cell_type": "code",
   "execution_count": null,
   "metadata": {},
   "outputs": [],
   "source": [
    "# Gas/Fluid standard deviation.    \n",
    "old_folks=[]\n",
    "\n",
    "for i in range (len(mega_f)):\n",
    "    overall_time=mega_f_life[i]\n",
    "    senior=overall_time-int((overall_time*0.1).round(0))\n",
    "    alpha=mega_f[i][1][senior:overall_time][\"GAS/FLUID\"].std()\n",
    "    old_folks.append(alpha)\n",
    "\n",
    "army=[]\n",
    "\n",
    "for i in range (len(mega_f)):\n",
    "    overall_time=mega_f_life[i]\n",
    "    start=overall_time-int((overall_time*0.3).round(0))\n",
    "    end=overall_time-int((overall_time*0.2).round(0))\n",
    "    soldier=mega_f[i][1][start:end][\"GAS/FLUID\"].std()\n",
    "    army.append(soldier)\n",
    "\n",
    "\n",
    "army_arr = (np.array(army))\n",
    "old_folks_arr = (np.array(old_folks))\n",
    "main_arr = np.hstack((army_arr,old_folks_arr))\n",
    "\n",
    "zero = np.zeros(shape = (len(mega_f),1))\n",
    "ones = np.ones(shape = (len(mega_f),1))\n",
    "\n",
    "y = np.vstack((zero,ones))\n",
    "\n",
    "data_df[\"GAS/FLUID(std)\"] = np.array(main_arr)\n",
    "\n",
    "    \n",
    "data_df"
   ]
  },
  {
   "cell_type": "code",
   "execution_count": null,
   "metadata": {},
   "outputs": [],
   "source": [
    "# Static features.    \n",
    "old_folks=[]\n",
    "\n",
    "for i in range (len(mega_f)):\n",
    "    overall_time=mega_f_life[i]\n",
    "    senior=overall_time-int((overall_time*0.1).round(0))\n",
    "    alpha=mega_f[i][1][senior:overall_time][\"AL_Bottom_Depth\"].mean()\n",
    "    old_folks.append(alpha)\n",
    "\n",
    "army=[]\n",
    "for i in range (len(mega_f)):\n",
    "    overall_time=mega_f_life[i]\n",
    "    start=overall_time-int((overall_time*0.3).round(0))\n",
    "    end=overall_time-int((overall_time*0.2).round(0))\n",
    "    soldier=mega_f[i][1][start:end][\"AL_Bottom_Depth\"].mean()\n",
    "    army.append(soldier)\n",
    "        \n",
    "army_arr = (np.array(army))\n",
    "old_folks_arr = (np.array(old_folks))\n",
    "main_arr = np.hstack((army_arr,old_folks_arr))\n",
    "\n",
    "zero = np.zeros(shape = (len(mega_f),1))\n",
    "ones = np.ones(shape = (len(mega_f),1))\n",
    "\n",
    "y = np.vstack((zero,ones))\n",
    "\n",
    "data_df[\"AL_Bottom_Depth\"] = np.array(main_arr)\n",
    "data_df['AL_Bottom_Depth'] = (data_df['AL_Bottom_Depth']) / (data_df['AL_Bottom_Depth'].abs().max())\n",
    "    \n",
    "data_df"
   ]
  },
  {
   "cell_type": "code",
   "execution_count": null,
   "metadata": {},
   "outputs": [],
   "source": [
    "old_folks=[]\n",
    "\n",
    "for i in range (len(mega_f)):\n",
    "    overall_time=mega_f_life[i]\n",
    "    senior=overall_time-int((overall_time*0.1).round(0))\n",
    "    alpha=mega_f[i][1][senior:overall_time][\"DLS_Critical\"].mean()\n",
    "    old_folks.append(alpha)\n",
    "\n",
    "army=[]\n",
    "for i in range (len(mega_f)):\n",
    "    overall_time=mega_f_life[i]\n",
    "    start=overall_time-int((overall_time*0.3).round(0))\n",
    "    end=overall_time-int((overall_time*0.2).round(0))\n",
    "    soldier=mega_f[i][1][start:end][\"DLS_Critical\"].mean()\n",
    "    army.append(soldier)\n",
    "        \n",
    "\n",
    "army_arr = (np.array(army))\n",
    "old_folks_arr = (np.array(old_folks))\n",
    "main_arr = np.hstack((army_arr,old_folks_arr))\n",
    "\n",
    "zero = np.zeros(shape = (len(mega_f),1))\n",
    "ones = np.ones(shape = (len(mega_f),1))\n",
    "\n",
    "y = np.vstack((zero,ones))\n",
    "\n",
    "data_df[\"DLS_Critical\"] = np.array(main_arr)\n",
    "data_df['DLS_Critical'] = (data_df['DLS_Critical']) / (data_df['DLS_Critical'].abs().max())\n",
    "    \n",
    "data_df"
   ]
  },
  {
   "cell_type": "code",
   "execution_count": null,
   "metadata": {},
   "outputs": [],
   "source": [
    "old_folks=[]\n",
    "\n",
    "for i in range (len(mega_f)):\n",
    "    overall_time=mega_f_life[i]\n",
    "    senior=overall_time-int((overall_time*0.1).round(0))\n",
    "    alpha=mega_f[i][1][senior:overall_time][\"OIL\"].diff().mean()\n",
    "    old_folks.append(alpha)\n",
    "\n",
    "army=[]\n",
    "\n",
    "for i in range (len(mega_f)):\n",
    "    overall_time=mega_f_life[i]\n",
    "    start=overall_time-int((overall_time*0.3).round(0))\n",
    "    end=overall_time-int((overall_time*0.2).round(0))\n",
    "    soldier=mega_f[i][1][start:end][\"OIL\"].diff().mean()\n",
    "    army.append(soldier)\n",
    "\n",
    "army_arr = (np.array(army))\n",
    "old_folks_arr = (np.array(old_folks))\n",
    "main_arr = np.hstack((army_arr,old_folks_arr))\n",
    "\n",
    "zero = np.zeros(shape = (len(mega_f),1))\n",
    "ones = np.ones(shape = (len(mega_f),1))\n",
    "\n",
    "y = np.vstack((zero,ones))\n",
    "\n",
    "data_df[\"OIL\"] = np.array(main_arr)\n",
    "\n",
    "    \n",
    "data_df"
   ]
  },
  {
   "cell_type": "code",
   "execution_count": null,
   "metadata": {},
   "outputs": [],
   "source": [
    "old_folks=[]\n",
    "\n",
    "for i in range (len(mega_f)):\n",
    "    overall_time=mega_f_life[i]\n",
    "    senior=overall_time-int((overall_time*0.1).round(0))\n",
    "    alpha=mega_f[i][1][senior:overall_time][\"ESP Data - Vibration X\"].diff().mean()\n",
    "    old_folks.append(alpha)\n",
    "\n",
    "army=[]\n",
    "\n",
    "for i in range (len(mega_f)):\n",
    "    overall_time=mega_f_life[i]\n",
    "    start=overall_time-int((overall_time*0.3).round(0))\n",
    "    end=overall_time-int((overall_time*0.2).round(0))\n",
    "    soldier=mega_f[i][1][start:end][\"ESP Data - Vibration X\"].diff().mean()\n",
    "    army.append(soldier)\n",
    "\n",
    "army_arr = (np.array(army))\n",
    "old_folks_arr = (np.array(old_folks))\n",
    "main_arr = np.hstack((army_arr,old_folks_arr))\n",
    "\n",
    "zero = np.zeros(shape = (len(mega_f),1))\n",
    "ones = np.ones(shape = (len(mega_f),1))\n",
    "\n",
    "y = np.vstack((zero,ones))\n",
    "\n",
    "data_df[\"ESP Data - Vibration X\"] = np.array(main_arr)\n",
    "\n",
    "    \n",
    "data_df"
   ]
  },
  {
   "cell_type": "code",
   "execution_count": null,
   "metadata": {},
   "outputs": [],
   "source": [
    "old_folks=[]\n",
    "\n",
    "for i in range (len(mega_f)):\n",
    "    overall_time=mega_f_life[i]\n",
    "    senior=overall_time-int((overall_time*0.1).round(0))\n",
    "    alpha1=mega_f[i][1][senior:overall_time][\"OIL\"].sum()\n",
    "    alpha2=mega_f[i][1][0:overall_time][\"OIL\"].sum()\n",
    "    alpha3=alpha1/alpha2\n",
    "    alpha3 = alpha3/ (overall_time*0.1)\n",
    "    old_folks.append(alpha3)\n",
    "\n",
    "army=[]\n",
    "\n",
    "for i in range (len(mega_f)):\n",
    "    overall_time=mega_f_life[i]\n",
    "    start=overall_time-int((overall_time*0.3).round(0))\n",
    "    end=overall_time-int((overall_time*0.2).round(0))\n",
    "    soldier1=mega_f[i][1][start:end][\"OIL\"].sum()\n",
    "    soldier2=mega_f[i][1][0:end][\"OIL\"].sum()\n",
    "    soldier3=soldier1/soldier2\n",
    "    soldier3 = soldier3/(overall_time*0.2)\n",
    "    army.append(soldier3)\n",
    "    \n",
    "army_arr2 = np.array(army)\n",
    "old_folks_arr = (np.array(old_folks))\n",
    "main_arr = np.hstack((army_arr2,old_folks_arr))\n",
    "\n",
    "zero = np.zeros(shape = (len(mega_f),1))\n",
    "ones = np.ones(shape = (len(mega_f),1))\n",
    "\n",
    "y = np.vstack((zero,ones))\n",
    "\n",
    "data_df[\"Percentage Cumulative\"] = np.array(main_arr)"
   ]
  },
  {
   "cell_type": "code",
   "execution_count": null,
   "metadata": {},
   "outputs": [],
   "source": [
    "old_folks=[]\n",
    "\n",
    "for i in range (len(mega_f)):\n",
    "    overall_time=mega_f_life[i]\n",
    "    senior=overall_time-int((overall_time*0.1).round(0))\n",
    "    alpha=mega_f[i][1][senior:overall_time][\"OIL\"].diff().diff().mean()\n",
    "    old_folks.append(alpha)\n",
    "\n",
    "army=[]\n",
    "for i in range (len(mega_f)):\n",
    "    overall_time=mega_f_life[i]\n",
    "    start=overall_time-int((overall_time*0.3).round(0))\n",
    "    end=overall_time-int((overall_time*0.2).round(0))\n",
    "    soldier=mega_f[i][1][start:end][\"OIL\"].diff().diff().mean()\n",
    "    army.append(soldier)\n",
    "    \n",
    "army_arr2 = np.array(army)\n",
    "old_folks_arr = (np.array(old_folks))\n",
    "main_arr = np.hstack((army_arr2,old_folks_arr))\n",
    "\n",
    "zero = np.zeros(shape = (len(mega_f),1))\n",
    "ones = np.ones(shape = (len(mega_f),1))\n",
    "\n",
    "y = np.vstack((zero,ones))\n",
    "\n",
    "data_df[\"B\"] = np.array(main_arr)"
   ]
  },
  {
   "cell_type": "code",
   "execution_count": null,
   "metadata": {},
   "outputs": [],
   "source": [
    "# Age.\n",
    "old_folks=[]\n",
    "\n",
    "for i in range (len(mega_f)):\n",
    "    overall_time=mega_f_life[i]\n",
    "    senior=overall_time-int((overall_time*0.1).round(0))\n",
    "    alpha=mega_f[i][1][senior:overall_time][\"OIL\"].diff().diff().mean()\n",
    "    old_folks.append(overall_time)\n",
    "\n",
    "army=[]\n",
    "for i in range (len(mega_f)):\n",
    "    overall_time=mega_f_life[i]\n",
    "    start=overall_time-int((overall_time*0.3).round(0))\n",
    "    end=overall_time-int((overall_time*0.2).round(0))\n",
    "    soldier=mega_f[i][1][start:end][\"OIL\"].diff().diff().mean()\n",
    "    army.append(end)\n",
    "    \n",
    "army_arr2 = np.array(army)\n",
    "old_folks_arr = (np.array(old_folks))\n",
    "main_arr = np.hstack((army_arr2,old_folks_arr))\n",
    "\n",
    "zero = np.zeros(shape = (len(mega_f),1))\n",
    "ones = np.ones(shape = (len(mega_f),1))\n",
    "\n",
    "y = np.vstack((zero,ones))\n",
    "\n",
    "data_df[\"Age\"] = np.array(main_arr)"
   ]
  },
  {
   "cell_type": "code",
   "execution_count": null,
   "metadata": {},
   "outputs": [],
   "source": [
    "data_df = data_df.fillna(method = 'backfill')"
   ]
  },
  {
   "cell_type": "code",
   "execution_count": null,
   "metadata": {},
   "outputs": [],
   "source": [
    "data_df = data_df[data_df[\"GAS/OIL\"] <= 10]\n",
    "data_df = data_df[data_df[\"GAS/FLUID\"] <= 10]"
   ]
  },
  {
   "cell_type": "code",
   "execution_count": null,
   "metadata": {},
   "outputs": [],
   "source": [
    "data_df = data_df[data_df[\"GAS/OIL(std)\"] <= 100]\n",
    "data_df = data_df[data_df[\"OIL\"] >= -50]\n",
    "data_df = data_df[data_df[\"OIL\"] <= 50]"
   ]
  },
  {
   "cell_type": "code",
   "execution_count": null,
   "metadata": {},
   "outputs": [],
   "source": [
    "top = np.percentile(data_df[\"Age\"].values,90)\n",
    "bottom = np.percentile(data_df[\"Age\"].values,10)\n",
    "data_df = data_df[data_df[\"Age\"] <= top]\n",
    "data_df = data_df[data_df[\"Age\"] >= bottom]"
   ]
  },
  {
   "cell_type": "code",
   "execution_count": null,
   "metadata": {},
   "outputs": [],
   "source": [
    "sns.boxplot(y = data_df['GAS/OIL'])"
   ]
  },
  {
   "cell_type": "code",
   "execution_count": null,
   "metadata": {},
   "outputs": [],
   "source": [
    "X_data = data_df[['OIL','GAS/OIL','GAS/OIL(std)','GAS/FLUID', 'GAS/FLUID(std)','Percentage Cumulative','B', 'Age']]"
   ]
  },
  {
   "cell_type": "code",
   "execution_count": null,
   "metadata": {},
   "outputs": [],
   "source": [
    "scaler = StandardScaler()\n"
   ]
  },
  {
   "cell_type": "code",
   "execution_count": null,
   "metadata": {},
   "outputs": [],
   "source": [
    "y = data_df['Target']"
   ]
  },
  {
   "cell_type": "code",
   "execution_count": null,
   "metadata": {},
   "outputs": [],
   "source": [
    "X_train, X_test, y_train, y_test = train_test_split(X_data,y)\n",
    "tpot = TPOTClassifier(generations=5, population_size=50, verbosity=2, random_state=42)\n",
    "tpot.fit(X_train, y_train)"
   ]
  },
  {
   "cell_type": "code",
   "execution_count": null,
   "metadata": {},
   "outputs": [],
   "source": [
    "clf2 = svm.SVC(kernel='linear') # Linear Kernel\n",
    "\n",
    "#Train the model using the training sets\n",
    "clf2.fit(X_train, y_train)\n",
    "y_pred = clf2.predict(X_test)"
   ]
  },
  {
   "cell_type": "code",
   "execution_count": null,
   "metadata": {},
   "outputs": [],
   "source": [
    "print(\"Accuracy:\",metrics.accuracy_score(y_test, y_pred))"
   ]
  },
  {
   "cell_type": "code",
   "execution_count": null,
   "metadata": {},
   "outputs": [],
   "source": [
    "# Random Forest\n",
    "clf = RandomForestClassifier(max_depth=6, random_state=0, min_samples_split=2,n_estimators = 1000)\n",
    "clf.fit(X_train, y_train)\n",
    "\n",
    "y_pred = clf.predict(X_test)"
   ]
  },
  {
   "cell_type": "code",
   "execution_count": null,
   "metadata": {},
   "outputs": [],
   "source": [
    "# For the Solution Data\n",
    "old_folks=[]\n",
    "wellid = []\n",
    "pumpn = []\n",
    "\n",
    "for i in range (len(mega_s)):\n",
    "    overall_time=mega_s_life[i]\n",
    "    senior=overall_time-int((overall_time*0.1).round(0))\n",
    "    alpha=mega_s[i][1][senior:overall_time][\"OIL\"].diff().diff().mean()\n",
    "    old_folks.append(alpha)\n",
    "    wellid.append(mega_s[i][0][0])\n",
    "    pumpn.append(mega_s[i][0][1])\n",
    "\n",
    "\n",
    "    \n",
    "old_folks_arr = (np.array(old_folks))\n",
    "wellid_arr = np.array(wellid)\n",
    "pump_arr = np.array(pumpn)\n",
    "\n",
    "sol_df = pd.DataFrame(np.array(wellid),columns = [\"Well_ID\"])\n",
    "sol_df[\"Pump_ID\"] = np.array(pumpn)\n",
    "\n",
    "main_arr = np.hstack((old_folks_arr))\n",
    "\n",
    "sol_df[\"Oil\"] = np.array(main_arr)"
   ]
  },
  {
   "cell_type": "code",
   "execution_count": null,
   "metadata": {},
   "outputs": [],
   "source": [
    "# Gas/oil ratio     \n",
    "old_folks=[]\n",
    "\n",
    "for i in range (len(mega_s)):\n",
    "    overall_time=mega_s_life[i]\n",
    "    senior=overall_time-int((overall_time*0.1).round(0))\n",
    "    alpha=mega_s[i][1][senior:overall_time][\"GAS/OIL\"].diff().mean()\n",
    "    old_folks.append(alpha)\n",
    "\n",
    "        \n",
    "old_folks_arr = (np.array(old_folks))\n",
    "main_arr = np.hstack((old_folks_arr))\n",
    "\n",
    "\n",
    "sol_df[\"GAS/OIL\"] = np.array(main_arr)\n",
    "\n",
    "    \n",
    "sol_df"
   ]
  },
  {
   "cell_type": "code",
   "execution_count": null,
   "metadata": {},
   "outputs": [],
   "source": [
    "# Gas/oil standard deviation.    \n",
    "old_folks=[]\n",
    "\n",
    "for i in range (len(mega_s)):\n",
    "    overall_time=mega_s_life[i]\n",
    "    senior=overall_time-int((overall_time*0.1).round(0))\n",
    "    alpha=mega_s[i][1][senior:overall_time][\"GAS/OIL\"].std()\n",
    "    old_folks.append(alpha)\n",
    "\n",
    "        \n",
    "old_folks_arr = (np.array(old_folks))\n",
    "main_arr = np.hstack((old_folks_arr))\n",
    "\n",
    "\n",
    "sol_df[\"GAS/OIL(std)\"] = np.array(main_arr)\n",
    "\n",
    "    \n",
    "sol_df"
   ]
  },
  {
   "cell_type": "code",
   "execution_count": null,
   "metadata": {},
   "outputs": [],
   "source": [
    "# Gas/fluid ratio slope     \n",
    "old_folks=[]\n",
    "\n",
    "for i in range (len(mega_s)):\n",
    "    overall_time=mega_s_life[i]\n",
    "    senior=overall_time-int((overall_time*0.1).round(0))\n",
    "    alpha=mega_s[i][1][senior:overall_time][\"GAS/FLUID\"].diff().mean()\n",
    "    old_folks.append(alpha)\n",
    "\n",
    "        \n",
    "old_folks_arr = (np.array(old_folks))\n",
    "main_arr = np.hstack((old_folks_arr))\n",
    "\n",
    "\n",
    "sol_df[\"GAS/FLUID\"] = np.array(main_arr)\n",
    "\n",
    "\n",
    "sol_df"
   ]
  },
  {
   "cell_type": "code",
   "execution_count": null,
   "metadata": {},
   "outputs": [],
   "source": [
    "# Gas/Fluid standard deviation\n",
    "old_folks = []\n",
    "\n",
    "for i in range (len(mega_s)):\n",
    "    overall_time=mega_s_life[i]\n",
    "    senior=overall_time-int((overall_time*0.1).round(0))\n",
    "    alpha=mega_s[i][1][senior:overall_time][\"GAS/FLUID\"].std()\n",
    "    old_folks.append(alpha)\n",
    "    \n",
    "        \n",
    "old_folks_arr = (np.array(old_folks))\n",
    "main_arr = np.hstack((old_folks_arr))\n",
    "\n",
    "\n",
    "sol_df[\"GAS/FLUID(std)\"] = np.array(main_arr)\n",
    "\n",
    "    \n",
    "sol_df"
   ]
  },
  {
   "cell_type": "code",
   "execution_count": null,
   "metadata": {},
   "outputs": [],
   "source": [
    "# Static features.    \n",
    "old_folks=[]\n",
    "\n",
    "for i in range (len(mega_s)):\n",
    "    overall_time=mega_s_life[i]\n",
    "    senior=overall_time-int((overall_time*0.1).round(0))\n",
    "    alpha=mega_s[i][1][senior:overall_time][\"AL_Bottom_Depth\"].mean()\n",
    "    old_folks.append(alpha)\n",
    "    \n",
    "        \n",
    "old_folks_arr = (np.array(old_folks))\n",
    "main_arr = np.hstack((old_folks_arr))\n",
    "\n",
    "\n",
    "sol_df[\"AL_Bottom_Depth\"] = np.array(main_arr)\n",
    "\n",
    "sol_df['AL_Bottom_Depth'] = (sol_df['AL_Bottom_Depth']) / (sol_df['AL_Bottom_Depth'].abs().max())\n",
    "\n",
    "    \n",
    "sol_df"
   ]
  },
  {
   "cell_type": "code",
   "execution_count": null,
   "metadata": {},
   "outputs": [],
   "source": [
    "old_folks=[]\n",
    "\n",
    "for i in range (len(mega_s)):\n",
    "    overall_time=mega_s_life[i]\n",
    "    senior=overall_time-int((overall_time*0.1).round(0))\n",
    "    alpha=mega_s[i][1][senior:overall_time][\"DLS_Critical\"].mean()\n",
    "    old_folks.append(alpha)\n",
    "    \n",
    "        \n",
    "old_folks_arr = (np.array(old_folks))\n",
    "main_arr = np.hstack((old_folks_arr))\n",
    "\n",
    "\n",
    "sol_df[\"DLS_Critical\"] = np.array(main_arr)\n",
    "\n",
    "sol_df['DLS_Critical'] = (sol_df['DLS_Critical']) / (sol_df['DLS_Critical'].abs().max())\n",
    "\n",
    "    \n",
    "sol_df"
   ]
  },
  {
   "cell_type": "code",
   "execution_count": null,
   "metadata": {},
   "outputs": [],
   "source": [
    "# Oil production data.\n",
    "old_folks=[]\n",
    "\n",
    "for i in range (len(mega_s)):\n",
    "    overall_time=mega_s_life[i]\n",
    "    senior=overall_time-int((overall_time*0.1).round(0))\n",
    "    alpha=mega_s[i][1][senior:overall_time][\"OIL\"].diff().mean()\n",
    "    old_folks.append(alpha)\n",
    "    \n",
    "        \n",
    "old_folks_arr = (np.array(old_folks))\n",
    "main_arr = np.hstack((old_folks_arr))\n",
    "\n",
    "\n",
    "sol_df[\"OIL\"] = np.array(main_arr)\n",
    "\n",
    "    \n",
    "sol_df"
   ]
  },
  {
   "cell_type": "code",
   "execution_count": null,
   "metadata": {},
   "outputs": [],
   "source": [
    "# Vibration Data.\n",
    "old_folks=[]\n",
    "\n",
    "for i in range (len(mega_s)):\n",
    "    overall_time=mega_s_life[i]\n",
    "    senior=overall_time-int((overall_time*0.1).round(0))\n",
    "    alpha=mega_s[i][1][senior:overall_time][\"ESP Data - Vibration X\"].diff().mean()\n",
    "    old_folks.append(alpha)\n",
    "    \n",
    "    \n",
    "old_folks_arr = (np.array(old_folks))\n",
    "main_arr = np.hstack((old_folks_arr))\n",
    "\n",
    "\n",
    "sol_df[\"ESP Data - Vibration X\"] = np.array(main_arr)\n",
    "\n",
    "    \n",
    "sol_df"
   ]
  },
  {
   "cell_type": "code",
   "execution_count": null,
   "metadata": {},
   "outputs": [],
   "source": [
    "old_folks=[]\n",
    "\n",
    "for i in range (len(mega_s)):\n",
    "    overall_time=mega_s_life[i]\n",
    "    senior=overall_time-int((overall_time*0.1).round(0))\n",
    "    alpha1=mega_s[i][1][senior:overall_time][\"OIL\"].sum()\n",
    "    alpha2=mega_s[i][1][0:overall_time][\"OIL\"].sum()\n",
    "    alpha3=alpha1/alpha2\n",
    "    alpha3 = alpha3/ (overall_time*0.1)\n",
    "    old_folks.append(alpha3)\n",
    "\n",
    "sol_df[\"Cumulative Percentage\"] = np.array(main_arr)\n",
    "\n",
    "    \n",
    "sol_df"
   ]
  },
  {
   "cell_type": "code",
   "execution_count": null,
   "metadata": {},
   "outputs": [],
   "source": [
    "# 'B' Feature\n",
    "old_folks=[]\n",
    "\n",
    "for i in range (len(mega_s)):\n",
    "    overall_time=mega_s_life[i]\n",
    "    senior=overall_time-int((overall_time*0.1).round(0))\n",
    "    alpha=mega_s[i][1][senior:overall_time][\"OIL\"].diff().diff().mean()\n",
    "    old_folks.append(alpha)\n",
    "    \n",
    "old_folks_arr = (np.array(old_folks))\n",
    "main_arr = np.hstack((old_folks_arr))\n",
    "\n",
    "\n",
    "sol_df[\"B\"] = np.array(main_arr)\n",
    "\n",
    "    \n",
    "sol_df"
   ]
  },
  {
   "cell_type": "code",
   "execution_count": null,
   "metadata": {},
   "outputs": [],
   "source": [
    "old_folks=[]\n",
    "\n",
    "for i in range (len(mega_s)):\n",
    "    overall_time=mega_s_life[i]\n",
    "    senior=overall_time-int((overall_time*0.1).round(0))\n",
    "    alpha=mega_s[i][1][senior:overall_time][\"OIL\"].diff().diff().mean()\n",
    "    old_folks.append(overall_time)\n",
    "    \n",
    "old_folks_arr = (np.array(old_folks))\n",
    "main_arr = np.hstack((old_folks_arr))\n",
    "\n",
    "\n",
    "sol_df[\"Age\"] = np.array(main_arr)\n",
    "\n",
    "    \n",
    "sol_df"
   ]
  },
  {
   "cell_type": "code",
   "execution_count": null,
   "metadata": {},
   "outputs": [],
   "source": [
    "sol_df = sol_df.fillna(method = 'backfill')"
   ]
  },
  {
   "cell_type": "code",
   "execution_count": null,
   "metadata": {},
   "outputs": [],
   "source": [
    "sol_df = sol_df[sol_df[\"GAS/OIL\"] <= 10]\n",
    "sol_df = sol_df[sol_df[\"GAS/FLUID\"] <= 10]\n",
    "\n",
    "sol_df = sol_df[sol_df[\"GAS/OIL(std)\"] <= 100]\n",
    "sol_df = sol_df[sol_df[\"OIL\"] >= -50]\n",
    "sol_df = sol_df[sol_df[\"OIL\"] <= 50]"
   ]
  },
  {
   "cell_type": "code",
   "execution_count": null,
   "metadata": {},
   "outputs": [],
   "source": [
    "top = np.percentile(sol_df[\"Age\"].values,90)\n",
    "bottom = np.percentile(sol_df[\"Age\"].values,10)\n",
    "sol_df = sol_df[sol_df[\"Age\"] <= top]\n",
    "sol_df = sol_df[sol_df[\"Age\"] >= bottom]"
   ]
  },
  {
   "cell_type": "code",
   "execution_count": null,
   "metadata": {},
   "outputs": [],
   "source": [
    "X_data = sol_df[['OIL','GAS/OIL','GAS/OIL(std)','GAS/FLUID', 'GAS/FLUID(std)','Cumulative Percentage','B','Age']]"
   ]
  },
  {
   "cell_type": "code",
   "execution_count": null,
   "metadata": {},
   "outputs": [],
   "source": [
    "y_pred = clf.predict(X_data)"
   ]
  },
  {
   "cell_type": "code",
   "execution_count": null,
   "metadata": {},
   "outputs": [],
   "source": [
    "y_pred"
   ]
  },
  {
   "cell_type": "code",
   "execution_count": null,
   "metadata": {},
   "outputs": [],
   "source": [
    "mega_s_life"
   ]
  },
  {
   "cell_type": "code",
   "execution_count": null,
   "metadata": {},
   "outputs": [],
   "source": [
    "# SVM\n",
    "y_pred_svm = clf2.predict(X_data)"
   ]
  },
  {
   "cell_type": "code",
   "execution_count": null,
   "metadata": {},
   "outputs": [],
   "source": [
    "y_pred_svm"
   ]
  },
  {
   "cell_type": "code",
   "execution_count": null,
   "metadata": {},
   "outputs": [],
   "source": [
    "sol_df.head()"
   ]
  },
  {
   "cell_type": "code",
   "execution_count": null,
   "metadata": {},
   "outputs": [],
   "source": [
    "plt.hist(sol_df[\"GAS/FLUID\"])"
   ]
  },
  {
   "cell_type": "code",
   "execution_count": null,
   "metadata": {},
   "outputs": [],
   "source": [
    "sol_df[\"Predicted Labels\"] = y_pred"
   ]
  },
  {
   "cell_type": "code",
   "execution_count": null,
   "metadata": {},
   "outputs": [],
   "source": [
    "sol_df"
   ]
  }
 ],
 "metadata": {
  "kernelspec": {
   "display_name": "base",
   "language": "python",
   "name": "python3"
  },
  "language_info": {
   "codemirror_mode": {
    "name": "ipython",
    "version": 3
   },
   "file_extension": ".py",
   "mimetype": "text/x-python",
   "name": "python",
   "nbconvert_exporter": "python",
   "pygments_lexer": "ipython3",
   "version": "3.9.12"
  },
  "vscode": {
   "interpreter": {
    "hash": "043433d6b18bdeb8544c06540320f4c494e406f840db1fa6d3d1188f7786a55f"
   }
  }
 },
 "nbformat": 4,
 "nbformat_minor": 2
}
